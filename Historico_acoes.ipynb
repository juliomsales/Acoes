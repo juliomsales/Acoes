{
 "cells": [
  {
   "cell_type": "markdown",
   "metadata": {
    "colab_type": "text",
    "id": "wvuzhcRNGMIU"
   },
   "source": [
    "# Scrapping para coletar os tickers das Ações, BDR's e FII's listadas"
   ]
  },
  {
   "cell_type": "code",
   "execution_count": null,
   "metadata": {
    "colab": {},
    "colab_type": "code",
    "executionInfo": {
     "elapsed": 835,
     "status": "ok",
     "timestamp": 1600178967080,
     "user": {
      "displayName": "Julio Sales",
      "photoUrl": "https://lh3.googleusercontent.com/a-/AOh14GiZ4EayNk5u52hCWFM3YNb9UHu_FEvevLANMQPQQg=s64",
      "userId": "09300349995903618850"
     },
     "user_tz": 180
    },
    "id": "r3lPbEAmGMIV"
   },
   "outputs": [],
   "source": [
    "from tqdm import tqdm\n",
    "from urllib.request import Request, urlopen, urlretrieve\n",
    "from urllib.error import URLError, HTTPError\n",
    "from bs4 import BeautifulSoup\n",
    "from selenium import webdriver\n",
    "from selenium.webdriver.chrome.options import Options"
   ]
  },
  {
   "cell_type": "code",
   "execution_count": null,
   "metadata": {
    "colab": {},
    "colab_type": "code",
    "executionInfo": {
     "elapsed": 1291,
     "status": "ok",
     "timestamp": 1600178971472,
     "user": {
      "displayName": "Julio Sales",
      "photoUrl": "https://lh3.googleusercontent.com/a-/AOh14GiZ4EayNk5u52hCWFM3YNb9UHu_FEvevLANMQPQQg=s64",
      "userId": "09300349995903618850"
     },
     "user_tz": 180
    },
    "id": "AH_PDVrIGMIZ"
   },
   "outputs": [],
   "source": [
    "class Ticker_scrapper:\n",
    "    \n",
    "    def __init__(self, url, headers):\n",
    "        self.url = url\n",
    "        self.headers = headers\n",
    "    \n",
    "    def _get_html(self):\n",
    "        try:\n",
    "            self.req = Request(self.url, headers=self.headers)\n",
    "            self.response = urlopen(self.req)\n",
    "            self.html = self.response.read()\n",
    "\n",
    "        except HTTPError as e:\n",
    "            raise ValueError(e.status, e.reason)\n",
    "\n",
    "        except URLError as e:\n",
    "            raise ValueError(e.reason)\n",
    "    \n",
    "    def get_tickers_bdr(self):\n",
    "        self._get_html()\n",
    "        self.soup = BeautifulSoup(self.html, 'html.parser')\n",
    "        self.tickers = []\n",
    "        \n",
    "        for self.item in self.soup.findAll('td', class_='String Column2'):\n",
    "            for self.item2 in self.item.findAll('a'):\n",
    "                self.tickers.append(self.item2.get_text())\n",
    "        return self.tickers\n",
    "                \n",
    "    def get_tickers_acao(self):\n",
    "        self.tickers = []\n",
    "        self.lista_opcoes = list('ABCDEFGHIJKLMNOPQRSTUVWXYZ0123456789')\n",
    "        for self.opcao in tqdm(self.lista_opcoes):\n",
    "\n",
    "            try:\n",
    "                self.req = Request((self.url + self.opcao), headers=self.headers)\n",
    "                self.response = urlopen(self.req)\n",
    "                self.html = self.response.read()\n",
    "\n",
    "            except HTTPError as e:\n",
    "                raise ValueError(e.status, e.reason)\n",
    "\n",
    "            except URLError as e:\n",
    "                raise ValueError(e.reason)\n",
    "\n",
    "            self.soup = BeautifulSoup(self.html, 'html.parser')\n",
    "            self.itens = self.soup.find_all('td', class_=\"String Column2 ColumnLast\")\n",
    "            for self.item in self.itens:\n",
    "                self.tickers.append(self.item.get_text())\n",
    "        return self.tickers\n",
    "\n",
    "                    \n",
    "    def get_tickers_fii(self):\n",
    "        self._get_html()\n",
    "        self.soup = BeautifulSoup(self.html, 'html.parser')\n",
    "        self.group_tickers = []\n",
    "        self.tickers = []\n",
    "        \n",
    "        for self.item in self.soup.findAll('span', class_='ticker'):\n",
    "            self.tickers.append(self.item.get_text())\n",
    "        return self.tickers\n"
   ]
  },
  {
   "cell_type": "code",
   "execution_count": null,
   "metadata": {
    "colab": {},
    "colab_type": "code",
    "id": "G13AXuDSGMIb"
   },
   "outputs": [],
   "source": [
    "# BDR\n",
    "url = 'https://br.advfn.com/indice/bdrx'\n",
    "headers = {'User-Agent': 'Mozilla/5.0 (Windows NT 10.0; Win64; x64) AppleWebKit/537.36 (KHTML, like Gecko) Chrome/84.0.4147.105 Safari/537.36'}\n",
    "tickers = Ticker_scrapper(url, headers).get_tickers_bdr()\n",
    "len(tickers)"
   ]
  },
  {
   "cell_type": "code",
   "execution_count": null,
   "metadata": {
    "colab": {
     "base_uri": "https://localhost:8080/",
     "height": 50
    },
    "colab_type": "code",
    "executionInfo": {
     "elapsed": 38254,
     "status": "ok",
     "timestamp": 1600179011908,
     "user": {
      "displayName": "Julio Sales",
      "photoUrl": "https://lh3.googleusercontent.com/a-/AOh14GiZ4EayNk5u52hCWFM3YNb9UHu_FEvevLANMQPQQg=s64",
      "userId": "09300349995903618850"
     },
     "user_tz": 180
    },
    "id": "wxASKM3QGMId",
    "outputId": "55b8065c-ffb2-4204-9a7f-00483edd6032"
   },
   "outputs": [],
   "source": [
    "# Ação\n",
    "url = 'https://br.advfn.com/bolsa-de-valores/bovespa/'\n",
    "headers = {'User-Agent': 'Mozilla/5.0 (Windows NT 10.0; Win64; x64) AppleWebKit/537.36 (KHTML, like Gecko) Chrome/84.0.4147.105 Safari/537.36'}\n",
    "tickers = Ticker_scrapper(url, headers).get_tickers_acao()\n",
    "len(tickers)"
   ]
  },
  {
   "cell_type": "code",
   "execution_count": null,
   "metadata": {
    "colab": {},
    "colab_type": "code",
    "id": "RXye0YccGMIf"
   },
   "outputs": [],
   "source": [
    "# Fii's\n",
    "url = 'https://fiis.com.br/lista-de-fundos-imobiliarios/'\n",
    "headers = {'user-agent':'Mozilla/5.0 (Windows NT 10.0; Win64; x64) AppleWebKit/537.36 (KHTML, like Gecko) Chrome/84.0.4147.125 Safari/537.36'}\n",
    "tickers = Ticker_scrapper(url, headers).get_tickers_fii()\n",
    "len(tickers)"
   ]
  },
  {
   "cell_type": "markdown",
   "metadata": {
    "colab_type": "text",
    "id": "dU-r3VwtGMIi"
   },
   "source": [
    "# Coletando as cotações das ações e links com o logo"
   ]
  },
  {
   "cell_type": "code",
   "execution_count": null,
   "metadata": {
    "colab": {},
    "colab_type": "code",
    "executionInfo": {
     "elapsed": 856,
     "status": "ok",
     "timestamp": 1600179077486,
     "user": {
      "displayName": "Julio Sales",
      "photoUrl": "https://lh3.googleusercontent.com/a-/AOh14GiZ4EayNk5u52hCWFM3YNb9UHu_FEvevLANMQPQQg=s64",
      "userId": "09300349995903618850"
     },
     "user_tz": 180
    },
    "id": "Mv3MlIyzGMIi"
   },
   "outputs": [],
   "source": [
    "import pandas as pd\n",
    "import yfinance as yf\n",
    "pd.set_option('display.max_columns', None)"
   ]
  },
  {
   "cell_type": "code",
   "execution_count": null,
   "metadata": {
    "colab": {},
    "colab_type": "code",
    "executionInfo": {
     "elapsed": 628,
     "status": "ok",
     "timestamp": 1600179496131,
     "user": {
      "displayName": "Julio Sales",
      "photoUrl": "https://lh3.googleusercontent.com/a-/AOh14GiZ4EayNk5u52hCWFM3YNb9UHu_FEvevLANMQPQQg=s64",
      "userId": "09300349995903618850"
     },
     "user_tz": 180
    },
    "id": "5DWZVTuYGMIk"
   },
   "outputs": [],
   "source": [
    "class Historico_acoes:\n",
    "    \n",
    "    def __init__(self, tickers, start_date, get_img=1):\n",
    "        self.tickers = tickers\n",
    "        self.start_date = start_date\n",
    "        self.index = yf.Ticker('^BVSP').history(start=self.start_date).index\n",
    "        self.dados_historicos = pd.DataFrame(data=0,columns=[],index=self.index)\n",
    "        self.rejected_volume = []\n",
    "        self.rejected_ticker = []\n",
    "        self.len_trouble = []\n",
    "        self.imgs = {}\n",
    "        self.get_img = get_img\n",
    "    \n",
    "    def get_close(self, volume_minimo):\n",
    "        self.volume_minimo = volume_minimo\n",
    "        for self.ticker_unico in tqdm(self.tickers):\n",
    "            try:\n",
    "                self.dados_historicos_ticker_unico = yf.Ticker(self.ticker_unico+'.SA').history(start=self.start_date)\n",
    "                self._check_len()\n",
    "                self._check_volume(self.volume_minimo)\n",
    "                self._get_img()\n",
    "                self._add_stock() if self.check_volume == True else self._rejected_volume()\n",
    "            except:\n",
    "                pass\n",
    "    \n",
    "    def _check_volume(self, volume_minimo):\n",
    "        self.volume_minimo = volume_minimo\n",
    "        self.volume_em_rs = (self.dados_historicos_ticker_unico['Volume'].mean() *\n",
    "                             self.dados_historicos_ticker_unico['Close'].mean())\n",
    "        self.check_volume = True if self.volume_em_rs > self.volume_minimo else False\n",
    "\n",
    "    def _check_len(self):\n",
    "        if len(self.dados_historicos_ticker_unico) > len(self.dados_historicos):\n",
    "            self.diference = self.dados_historicos_ticker_unico.index.difference(self.dados_historicos.index)\n",
    "            self.dados_historicos_ticker_unico.drop(self.diference, inplace=True)\n",
    "            self._len_trouble()\n",
    "\n",
    "\n",
    "    def _add_stock(self):\n",
    "        self.dados_historicos[self.ticker_unico] = self.dados_historicos_ticker_unico['Close']\n",
    "        \n",
    "    def _len_trouble(self):\n",
    "        self.len_trouble.append(self.ticker_unico)\n",
    "        \n",
    "    def _rejected_volume(self):\n",
    "        self.rejected_volume.append(self.ticker_unico)\n",
    "        \n",
    "    def _reject_ticker(self):\n",
    "        self.rejected_ticker.append(self.ticker_unico)\n",
    "        \n",
    "    def show_result(self):\n",
    "        return self.dados_historicos\n",
    "        \n",
    "    def show_rejected_volume(self):\n",
    "        return self.rejected_volume\n",
    "    \n",
    "    def show_len_trouble(self):\n",
    "        return self.len_trouble\n",
    "    \n",
    "    def _get_img(self):\n",
    "        if self.get_img == 1:\n",
    "            try:\n",
    "                self.url = 'https://www.google.com/search?q=' + str(self.ticker_unico)\n",
    "                self.chrome_options = Options()\n",
    "                self.chrome_options.add_argument(\"--headless\")\n",
    "                self.driver = webdriver.Chrome(chrome_options=self.chrome_options)\n",
    "                self.driver.get(self.url)\n",
    "                self.html = self.driver.page_source\n",
    "                self.soup = BeautifulSoup(self.html,'html.parser')\n",
    "                self.img = self.soup.find('g-img', class_='ivg-i')\n",
    "                self.endereco_imagem = self.img.get('data-lpage')\n",
    "                self.imgs[self.ticker_unico] = self.endereco_imagem\n",
    "            except:\n",
    "                self.imgs[self.ticker_unico] = 0"
   ]
  },
  {
   "cell_type": "code",
   "execution_count": null,
   "metadata": {
    "colab": {
     "base_uri": "https://localhost:8080/",
     "height": 1000
    },
    "colab_type": "code",
    "executionInfo": {
     "elapsed": 1071192,
     "status": "ok",
     "timestamp": 1600180571354,
     "user": {
      "displayName": "Julio Sales",
      "photoUrl": "https://lh3.googleusercontent.com/a-/AOh14GiZ4EayNk5u52hCWFM3YNb9UHu_FEvevLANMQPQQg=s64",
      "userId": "09300349995903618850"
     },
     "user_tz": 180
    },
    "id": "_AGvxlxCGMIn",
    "outputId": "fc93bdff-010b-46cf-82f4-1dfc55ca2478"
   },
   "outputs": [],
   "source": [
    "start_date = '2020-03-23'  # Data do menor valor da ibovespa após o covid\n",
    "historico = Historico_acoes(tickers, start_date)\n",
    "historico.get_close(5000000)\n",
    "historico.show_result()"
   ]
  },
  {
   "cell_type": "markdown",
   "metadata": {
    "colab_type": "text",
    "id": "lkrfO2jTGMIp"
   },
   "source": [
    "###### Exportando para csv pois o processo acima é muito demorado."
   ]
  },
  {
   "cell_type": "code",
   "execution_count": null,
   "metadata": {
    "colab": {},
    "colab_type": "code",
    "executionInfo": {
     "elapsed": 810,
     "status": "ok",
     "timestamp": 1600180576757,
     "user": {
      "displayName": "Julio Sales",
      "photoUrl": "https://lh3.googleusercontent.com/a-/AOh14GiZ4EayNk5u52hCWFM3YNb9UHu_FEvevLANMQPQQg=s64",
      "userId": "09300349995903618850"
     },
     "user_tz": 180
    },
    "id": "U3O-X-AJGMIp"
   },
   "outputs": [],
   "source": [
    "historico.show_result().to_csv('Historico_covid.csv', sep=';')"
   ]
  },
  {
   "cell_type": "code",
   "execution_count": null,
   "metadata": {
    "colab": {},
    "colab_type": "code",
    "id": "DlWozahvGMIr"
   },
   "outputs": [],
   "source": [
    "imagens = historico.imgs\n",
    "imagens2 = pd.DataFrame.from_dict(imagens, orient='index')"
   ]
  },
  {
   "cell_type": "code",
   "execution_count": null,
   "metadata": {
    "colab": {},
    "colab_type": "code",
    "id": "H7A2HrFgGMIt"
   },
   "outputs": [],
   "source": [
    "imagens2.to_csv('imagens.csv', sep=';')"
   ]
  },
  {
   "cell_type": "markdown",
   "metadata": {
    "colab_type": "text",
    "id": "ktedWNdIGMIv"
   },
   "source": [
    "# Checando os dados"
   ]
  },
  {
   "cell_type": "code",
   "execution_count": null,
   "metadata": {
    "colab": {},
    "colab_type": "code",
    "id": "5pIgOHpCGMIw"
   },
   "outputs": [],
   "source": [
    "import pandas as pd\n",
    "import numpy as np\n",
    "pd.set_option('display.max_columns', None)"
   ]
  },
  {
   "cell_type": "code",
   "execution_count": null,
   "metadata": {
    "colab": {},
    "colab_type": "code",
    "id": "_ioBYHI7GMIz"
   },
   "outputs": [],
   "source": [
    "historico = pd.read_csv('Historico_bdr.csv', sep=';')"
   ]
  },
  {
   "cell_type": "code",
   "execution_count": null,
   "metadata": {
    "colab": {},
    "colab_type": "code",
    "id": "5HwoEsjzGMI1"
   },
   "outputs": [],
   "source": [
    "# historico = historico[:-1]\n",
    "historico"
   ]
  },
  {
   "cell_type": "code",
   "execution_count": null,
   "metadata": {
    "colab": {},
    "colab_type": "code",
    "id": "3DkyVGn1GMI4"
   },
   "outputs": [],
   "source": [
    "# Colunas onde existe NaN\n",
    "colunas_com_nan = []\n",
    "for column in historico.columns:\n",
    "    colunas_com_nan.append(column) if historico[column].isnull().values.any() else None\n",
    "colunas_com_nan"
   ]
  },
  {
   "cell_type": "code",
   "execution_count": null,
   "metadata": {
    "colab": {},
    "colab_type": "code",
    "id": "LspBv8yVGMI6"
   },
   "outputs": [],
   "source": [
    "historico_nan = historico[colunas_com_nan]\n",
    "historico.drop(colunas_com_nan, axis=1, inplace=True)"
   ]
  },
  {
   "cell_type": "code",
   "execution_count": null,
   "metadata": {
    "colab": {},
    "colab_type": "code",
    "id": "7i4Q87K5GMI8"
   },
   "outputs": [],
   "source": [
    "historico.isnull().values.any()"
   ]
  },
  {
   "cell_type": "code",
   "execution_count": null,
   "metadata": {
    "colab": {},
    "colab_type": "code",
    "id": "j_30-4J6GMI_"
   },
   "outputs": [],
   "source": [
    "historico['Date'] = historico['Date'].astype('datetime64[ns]')\n",
    "historico.set_index('Date', drop=True, inplace=True)\n",
    "historico"
   ]
  },
  {
   "cell_type": "code",
   "execution_count": null,
   "metadata": {
    "colab": {},
    "colab_type": "code",
    "id": "JZsKVSPAGMJB",
    "scrolled": true
   },
   "outputs": [],
   "source": [
    "len(colunas_com_nan)"
   ]
  },
  {
   "cell_type": "code",
   "execution_count": null,
   "metadata": {
    "colab": {},
    "colab_type": "code",
    "id": "7y2xC8DIGMJE"
   },
   "outputs": [],
   "source": [
    "historico_nan.shape"
   ]
  },
  {
   "cell_type": "code",
   "execution_count": null,
   "metadata": {
    "colab": {},
    "colab_type": "code",
    "id": "8n6rTFU9GMJG"
   },
   "outputs": [],
   "source": [
    "for item in colunas_com_nan:\n",
    "    print(item) if item not in historico_nan.columns else None"
   ]
  },
  {
   "cell_type": "code",
   "execution_count": null,
   "metadata": {
    "colab": {},
    "colab_type": "code",
    "id": "5F1SDNEXGMJI"
   },
   "outputs": [],
   "source": [
    "historico_nan = historico_nan[:-1]\n",
    "historico_nan"
   ]
  },
  {
   "cell_type": "code",
   "execution_count": null,
   "metadata": {
    "colab": {},
    "colab_type": "code",
    "id": "RCK-72s7GMJK"
   },
   "outputs": [],
   "source": [
    "# Os valores com NaN foram listadas apos 2018-01-01, logo serão preenchidas com o primeiro valor existente\n",
    "# Isso faz com que a porcentagem fique 0 até a ação ser listada\n",
    "historico_nan.fillna(method='bfill', inplace=True)\n",
    "historico_nan"
   ]
  },
  {
   "cell_type": "markdown",
   "metadata": {
    "colab_type": "text",
    "id": "o_h9nEeOGMJM"
   },
   "source": [
    "###### Unindo os dois DataFrames"
   ]
  },
  {
   "cell_type": "code",
   "execution_count": null,
   "metadata": {
    "colab": {},
    "colab_type": "code",
    "id": "iEHqYxqzGMJN"
   },
   "outputs": [],
   "source": [
    "historico"
   ]
  },
  {
   "cell_type": "code",
   "execution_count": null,
   "metadata": {
    "colab": {},
    "colab_type": "code",
    "id": "Nzk2oJzAGMJP"
   },
   "outputs": [],
   "source": [
    "if len(historico_nan) > len(historico):\n",
    "    diference = historico_nan.index.difference(historico.index)\n",
    "    historico_nan.drop(diference, inplace=True)\n",
    "historico = historico.join(historico_nan)\n",
    "historico"
   ]
  },
  {
   "cell_type": "markdown",
   "metadata": {
    "colab_type": "text",
    "id": "Ow_u5hFOGMJR"
   },
   "source": [
    "# Preparando para construção do gráfico"
   ]
  },
  {
   "cell_type": "code",
   "execution_count": null,
   "metadata": {
    "colab": {},
    "colab_type": "code",
    "id": "KtlsKkcmGMJS"
   },
   "outputs": [],
   "source": [
    "# Os dados serão convertidos para porcentagem\n",
    "# Antes serão coletados apenas dados em um intervalo de 10 dias, para diminuir a volatilidade da movimentação do gráfico\n",
    "historico_10_dias = historico.iloc[::10]\n",
    "historico_10_dias"
   ]
  },
  {
   "cell_type": "code",
   "execution_count": null,
   "metadata": {
    "colab": {},
    "colab_type": "code",
    "id": "yykPQTfBGMJU"
   },
   "outputs": [],
   "source": [
    "historico_10_dias_porcentagem = pd.DataFrame(data=0, index=historico_10_dias.index, columns=[])\n",
    "for column in historico_10_dias:\n",
    "    historico_10_dias_porcentagem[column] = (historico_10_dias[column].divide(historico_10_dias[column][0]) - 1) * 100\n",
    "historico_10_dias_porcentagem"
   ]
  },
  {
   "cell_type": "code",
   "execution_count": null,
   "metadata": {
    "colab": {},
    "colab_type": "code",
    "id": "kXzHIBreGMJW"
   },
   "outputs": [],
   "source": [
    "historico_10_dias_porcentagem.to_csv('Historico_10_dias_porcentagem_bdr.csv', sep=';', decimal=',')"
   ]
  },
  {
   "cell_type": "code",
   "execution_count": null,
   "metadata": {
    "colab": {},
    "colab_type": "code",
    "id": "i2_5PJmfGMJY"
   },
   "outputs": [],
   "source": [
    "a = yf.Ticker('^BVSP').history(start='2020-01-01').Close\n",
    "a.to_csv('bvsp.csv', sep=';', decimal=',')"
   ]
  },
  {
   "cell_type": "code",
   "execution_count": null,
   "metadata": {},
   "outputs": [],
   "source": []
  }
 ],
 "metadata": {
  "colab": {
   "name": "Historico BDR.ipynb",
   "provenance": []
  },
  "kernelspec": {
   "display_name": "Python 3",
   "language": "python",
   "name": "python3"
  },
  "language_info": {
   "codemirror_mode": {
    "name": "ipython",
    "version": 3
   },
   "file_extension": ".py",
   "mimetype": "text/x-python",
   "name": "python",
   "nbconvert_exporter": "python",
   "pygments_lexer": "ipython3",
   "version": "3.8.3"
  },
  "varInspector": {
   "cols": {
    "lenName": 16,
    "lenType": 16,
    "lenVar": 40
   },
   "kernels_config": {
    "python": {
     "delete_cmd_postfix": "",
     "delete_cmd_prefix": "del ",
     "library": "var_list.py",
     "varRefreshCmd": "print(var_dic_list())"
    },
    "r": {
     "delete_cmd_postfix": ") ",
     "delete_cmd_prefix": "rm(",
     "library": "var_list.r",
     "varRefreshCmd": "cat(var_dic_list()) "
    }
   },
   "types_to_exclude": [
    "module",
    "function",
    "builtin_function_or_method",
    "instance",
    "_Feature"
   ],
   "window_display": false
  }
 },
 "nbformat": 4,
 "nbformat_minor": 1
}
